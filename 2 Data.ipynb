{
 "cells": [
  {
   "cell_type": "markdown",
   "metadata": {},
   "source": [
    "## Evaluation of SF areas of COVID-19 risk"
   ]
  },
  {
   "cell_type": "markdown",
   "metadata": {},
   "source": [
    "### 2. Data"
   ]
  },
  {
   "cell_type": "markdown",
   "metadata": {},
   "source": [
    "DataSF.org provides a lot of open data sets about San Francisco, while Four Square API is resourceful of venue information. We will use the following data sources for this project: 1) Rate of COVID-19 cases by census ZIP code from DataSF.org, which contains data updated as of 04/25/2020 about confirmed COVID-19 cases in different regions of San Francisco. This file also provides population in different areas. 2) Health care facilities information from DataSF.org, which summarizes all the health care facilities available in San Francisco. 3) Information about venues in this region from the Four Square API.\n",
    "\n",
    "Data downloaded were converted to data frames, cleaned, and converted to other relevant information if needed, as follows.\n",
    "\n",
    "First, I collected the confirmed cases of COVID-19 and population in regions with different zip codes. This one is straightforward from the csv file. Coordinates for each zip codes were then obtained by geolocator. \n",
    "\n",
    "Next, I cleaned the health care facilities file. This data set included only longitude and latitude values for each facility, but did not indicate the corresponding neighborhood or zip code. So the coordinates were converted to zip code by geopy in order to join the other tables later. I also identified health care facilities more relevant to fight against COVID-19, i.e. excluding facilities such as drug treatment facilities or sexual health clinics. One hot coding was then used to collect different types of health care facilities and then summarized for each zip code. \n",
    "\n",
    "Venue information for each zip code area were collected from Four Square API and sorted. Using one hot coding to examine different categories and group them by zip code. The frequency of occurrence of each category was calculated and the top 10 venue categories for each zip code region were displayed in a new data frame. \n",
    "\n",
    "These steps left us with data frames that could be joined by zip codes and contain information about the COVID-19 confirmed case number/population, health care availability, as well as top venue categories. "
   ]
  },
  {
   "cell_type": "code",
   "execution_count": null,
   "metadata": {},
   "outputs": [],
   "source": []
  }
 ],
 "metadata": {
  "kernelspec": {
   "display_name": "Python",
   "language": "python",
   "name": "conda-env-python-py"
  },
  "language_info": {
   "codemirror_mode": {
    "name": "ipython",
    "version": 3
   },
   "file_extension": ".py",
   "mimetype": "text/x-python",
   "name": "python",
   "nbconvert_exporter": "python",
   "pygments_lexer": "ipython3",
   "version": "3.6.10"
  }
 },
 "nbformat": 4,
 "nbformat_minor": 4
}
