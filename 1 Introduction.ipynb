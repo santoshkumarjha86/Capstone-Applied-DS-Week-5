{
 "cells": [
  {
   "cell_type": "markdown",
   "metadata": {},
   "source": [
    "## Evaluation of SF areas of COVID-19 risk"
   ]
  },
  {
   "cell_type": "markdown",
   "metadata": {},
   "source": [
    "### 1. Introduction"
   ]
  },
  {
   "cell_type": "markdown",
   "metadata": {},
   "source": [
    "Coronavirus disease 2019 (COVID-19) is an infectious disease caused by severe acute respiratory syndrome coronavirus 2 (SARS-CoV-2). SARS-CoV-2, is a positive-sense single-stranded RNA virus and quite contagious in humans. Once infected, people might develop symptoms including fever, cough, shortness of breath, diarrhea, sore throat, and abdominal pain. While the majority of cases result in mild symptoms, some progress to pneumonia and multi-organ failure.\n",
    "\n",
    "The on-going pandemic of COVID-19 that has been designated a Public Health Emergency of International Concern on 30 January 2020 by the World Health Organization (WHO), and a pandemic on 11 March 2020. As to date, over 3 millions of people over the world have been infected, with 1 million of these cases in the United States. Thousands people lost their lives, while millions of people have to follow social distancing or stay-at-home orders to protect themselves.\n",
    "\n",
    "It is widely believed that COVID-19 is not going away soon. So the modifications to Stay-at-home Order must be guided by health risk and a commitment to equity. San Francisco is the one of the most populous city in the United States. The denser the city, the more easily disease can spread. Residents in larger cities definitely have to be more careful and engage in more intense social distancing. In this project, I would like to use data sets obtained from DataSF.org to examine different areas in San Francisoco. I will consider the COVID-19 confirmed case numbers, population, health care availability, as well as venue type and density to identify the most risky areas in San Francisco. I hope this can be an easy guide for people to choose where to go for essential businesses, such as grocery shopping. This information might also be helpful to small business owners (e.g. restaurant owners) to make decisions about whether it is too risky to still continue businesses based on their locations."
   ]
  },
  {
   "cell_type": "code",
   "execution_count": null,
   "metadata": {},
   "outputs": [],
   "source": []
  }
 ],
 "metadata": {
  "kernelspec": {
   "display_name": "Python",
   "language": "python",
   "name": "conda-env-python-py"
  },
  "language_info": {
   "codemirror_mode": {
    "name": "ipython",
    "version": 3
   },
   "file_extension": ".py",
   "mimetype": "text/x-python",
   "name": "python",
   "nbconvert_exporter": "python",
   "pygments_lexer": "ipython3",
   "version": "3.6.10"
  }
 },
 "nbformat": 4,
 "nbformat_minor": 4
}
